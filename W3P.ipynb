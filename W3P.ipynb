{
  "nbformat": 4,
  "nbformat_minor": 0,
  "metadata": {
    "colab": {
      "provenance": [],
      "mount_file_id": "1d7bTvrTBPRLNt-LT_Tcwcoe9eOhAB4Oc",
      "authorship_tag": "ABX9TyO6Kk2rciuLHYbrRa0hUkHl",
      "include_colab_link": true
    },
    "kernelspec": {
      "name": "python3",
      "display_name": "Python 3"
    },
    "language_info": {
      "name": "python"
    }
  },
  "cells": [
    {
      "cell_type": "markdown",
      "metadata": {
        "id": "view-in-github",
        "colab_type": "text"
      },
      "source": [
        "<a href=\"https://colab.research.google.com/github/jettysruthi8/perpinsta-internship/blob/main/W3P.ipynb\" target=\"_parent\"><img src=\"https://colab.research.google.com/assets/colab-badge.svg\" alt=\"Open In Colab\"/></a>"
      ]
    },
    {
      "cell_type": "markdown",
      "source": [
        "Week 3 (1)\n",
        "data cleaning using pandas"
      ],
      "metadata": {
        "id": "19CnbuWxbr5C"
      }
    },
    {
      "cell_type": "code",
      "execution_count": 2,
      "metadata": {
        "id": "bc67eojMbo89"
      },
      "outputs": [],
      "source": [
        "import numpy as np\n",
        "import pandas as pd"
      ]
    },
    {
      "cell_type": "code",
      "source": [
        "data = pd.read_csv(\"/content/sample_data/Data-cleaning-for-beginners-using-pandas.csv\")\n",
        "print(data)"
      ],
      "metadata": {
        "colab": {
          "base_uri": "https://localhost:8080/"
        },
        "id": "RHXfQl_3b9kv",
        "outputId": "757af2c1-dfa6-4bde-db05-3f4010a89d9f"
      },
      "execution_count": 4,
      "outputs": [
        {
          "output_type": "stream",
          "name": "stdout",
          "text": [
            "    Index   Age      Salary  Rating       Location  Established Easy Apply\n",
            "0       0  44.0   $44k-$99k     5.4       India,In         1999       TRUE\n",
            "1       1  66.0   $55k-$66k     3.5    New York,Ny         2002       TRUE\n",
            "2       2   NaN   $77k-$89k    -1.0    New York,Ny           -1         -1\n",
            "3       3  64.0   $44k-$99k     4.4       India In         1988         -1\n",
            "4       4  25.0   $44k-$99k     6.4  Australia Aus         2002         -1\n",
            "5       5  44.0   $77k-$89k     1.4       India,In         1999       TRUE\n",
            "6       6  21.0   $44k-$99k     0.0    New York,Ny           -1         -1\n",
            "7       7  44.0   $44k-$99k    -1.0  Australia Aus           -1         -1\n",
            "8       8  35.0   $44k-$99k     5.4    New York,Ny           -1         -1\n",
            "9       9  22.0   $44k-$99k     7.7       India,In           -1       TRUE\n",
            "10     10  55.0   $10k-$49k     5.4       India,In         2008       TRUE\n",
            "11     11  44.0   $10k-$49k     6.7       India,In         2009         -1\n",
            "12     12   NaN   $44k-$99k     0.0       India,In         1999         -1\n",
            "13     13  25.0   $44k-$99k    -1.0  Australia Aus         2019       TRUE\n",
            "14     14  66.0   $44k-$99k     4.0  Australia Aus         2020       TRUE\n",
            "15     15  44.0  $88k-$101k     3.0  Australia Aus         1999         -1\n",
            "16     16  19.0   $19k-$40k     4.5       India,In         1984         -1\n",
            "17     17   NaN   $44k-$99k     5.3    New York,Ny         1943       TRUE\n",
            "18     18  35.0   $44k-$99k     6.7    New York,Ny         1954       TRUE\n",
            "19     19  32.0   $44k-$99k     3.3    New York,Ny         1955       TRUE\n",
            "20     20   NaN   $44k-$99k     5.7    New York,Ny         1944       TRUE\n",
            "21     21  35.0   $44k-$99k     5.0    New York,Ny         1946         -1\n",
            "22     22  19.0   $55k-$66k     7.8    New York,Ny         1988       TRUE\n",
            "23     23   NaN   $44k-$99k     2.4    New York,Ny         1999       TRUE\n",
            "24     24  13.0   $44k-$99k    -1.0    New York,Ny         1987         -1\n",
            "25     25  55.0   $44k-$99k     0.0  Australia Aus         1980       TRUE\n",
            "26     26   NaN   $55k-$66k     NaN       India,In         1934       TRUE\n",
            "27     27  52.0   $44k-$99k     5.4       India,In         1935         -1\n",
            "28     28   NaN   $39k-$88k     3.4  Australia Aus         1932         -1\n"
          ]
        }
      ]
    },
    {
      "cell_type": "markdown",
      "source": [
        "1) Missing Values: Are there any missing values in the dataset, and if so, how should they be handled for each indicator?"
      ],
      "metadata": {
        "id": "UkghuRhcdqns"
      }
    },
    {
      "cell_type": "code",
      "source": [
        "data.isnull().sum()"
      ],
      "metadata": {
        "colab": {
          "base_uri": "https://localhost:8080/"
        },
        "id": "v2ybi6sOb9hP",
        "outputId": "af8a90c3-848b-4ff1-ab88-e96a8d4265b7"
      },
      "execution_count": 5,
      "outputs": [
        {
          "output_type": "execute_result",
          "data": {
            "text/plain": [
              "Index          0\n",
              "Age            7\n",
              "Salary         0\n",
              "Rating         1\n",
              "Location       0\n",
              "Established    0\n",
              "Easy Apply     0\n",
              "dtype: int64"
            ]
          },
          "metadata": {},
          "execution_count": 5
        }
      ]
    },
    {
      "cell_type": "code",
      "source": [
        "data.isnull().sum().sum()"
      ],
      "metadata": {
        "colab": {
          "base_uri": "https://localhost:8080/"
        },
        "id": "INbXgvNhb9a-",
        "outputId": "df3afe1c-407b-4f2d-c694-8bde95daea40"
      },
      "execution_count": 6,
      "outputs": [
        {
          "output_type": "execute_result",
          "data": {
            "text/plain": [
              "8"
            ]
          },
          "metadata": {},
          "execution_count": 6
        }
      ]
    },
    {
      "cell_type": "code",
      "source": [
        "data.Age.fillna(data.Age.mean(),inplace = True)\n",
        "print(data)"
      ],
      "metadata": {
        "colab": {
          "base_uri": "https://localhost:8080/"
        },
        "id": "He2KlOyYb9XY",
        "outputId": "2fa72ae7-9fcf-4865-d41e-3772fa4379fa"
      },
      "execution_count": 7,
      "outputs": [
        {
          "output_type": "stream",
          "name": "stdout",
          "text": [
            "    Index        Age      Salary  Rating       Location  Established  \\\n",
            "0       0  44.000000   $44k-$99k     5.4       India,In         1999   \n",
            "1       1  66.000000   $55k-$66k     3.5    New York,Ny         2002   \n",
            "2       2  39.045455   $77k-$89k    -1.0    New York,Ny           -1   \n",
            "3       3  64.000000   $44k-$99k     4.4       India In         1988   \n",
            "4       4  25.000000   $44k-$99k     6.4  Australia Aus         2002   \n",
            "5       5  44.000000   $77k-$89k     1.4       India,In         1999   \n",
            "6       6  21.000000   $44k-$99k     0.0    New York,Ny           -1   \n",
            "7       7  44.000000   $44k-$99k    -1.0  Australia Aus           -1   \n",
            "8       8  35.000000   $44k-$99k     5.4    New York,Ny           -1   \n",
            "9       9  22.000000   $44k-$99k     7.7       India,In           -1   \n",
            "10     10  55.000000   $10k-$49k     5.4       India,In         2008   \n",
            "11     11  44.000000   $10k-$49k     6.7       India,In         2009   \n",
            "12     12  39.045455   $44k-$99k     0.0       India,In         1999   \n",
            "13     13  25.000000   $44k-$99k    -1.0  Australia Aus         2019   \n",
            "14     14  66.000000   $44k-$99k     4.0  Australia Aus         2020   \n",
            "15     15  44.000000  $88k-$101k     3.0  Australia Aus         1999   \n",
            "16     16  19.000000   $19k-$40k     4.5       India,In         1984   \n",
            "17     17  39.045455   $44k-$99k     5.3    New York,Ny         1943   \n",
            "18     18  35.000000   $44k-$99k     6.7    New York,Ny         1954   \n",
            "19     19  32.000000   $44k-$99k     3.3    New York,Ny         1955   \n",
            "20     20  39.045455   $44k-$99k     5.7    New York,Ny         1944   \n",
            "21     21  35.000000   $44k-$99k     5.0    New York,Ny         1946   \n",
            "22     22  19.000000   $55k-$66k     7.8    New York,Ny         1988   \n",
            "23     23  39.045455   $44k-$99k     2.4    New York,Ny         1999   \n",
            "24     24  13.000000   $44k-$99k    -1.0    New York,Ny         1987   \n",
            "25     25  55.000000   $44k-$99k     0.0  Australia Aus         1980   \n",
            "26     26  39.045455   $55k-$66k     NaN       India,In         1934   \n",
            "27     27  52.000000   $44k-$99k     5.4       India,In         1935   \n",
            "28     28  39.045455   $39k-$88k     3.4  Australia Aus         1932   \n",
            "\n",
            "   Easy Apply  \n",
            "0        TRUE  \n",
            "1        TRUE  \n",
            "2          -1  \n",
            "3          -1  \n",
            "4          -1  \n",
            "5        TRUE  \n",
            "6          -1  \n",
            "7          -1  \n",
            "8          -1  \n",
            "9        TRUE  \n",
            "10       TRUE  \n",
            "11         -1  \n",
            "12         -1  \n",
            "13       TRUE  \n",
            "14       TRUE  \n",
            "15         -1  \n",
            "16         -1  \n",
            "17       TRUE  \n",
            "18       TRUE  \n",
            "19       TRUE  \n",
            "20       TRUE  \n",
            "21         -1  \n",
            "22       TRUE  \n",
            "23       TRUE  \n",
            "24         -1  \n",
            "25       TRUE  \n",
            "26       TRUE  \n",
            "27         -1  \n",
            "28         -1  \n"
          ]
        }
      ]
    },
    {
      "cell_type": "code",
      "source": [
        "data['Age'] = data.Age.round(decimals=0)"
      ],
      "metadata": {
        "id": "7tasXxDQb9VE"
      },
      "execution_count": 8,
      "outputs": []
    },
    {
      "cell_type": "code",
      "source": [
        "data['Age'] = data['Age'].astype(int)"
      ],
      "metadata": {
        "id": "bnwp2sG6b9Sc"
      },
      "execution_count": 9,
      "outputs": []
    },
    {
      "cell_type": "code",
      "source": [
        "print(data)"
      ],
      "metadata": {
        "colab": {
          "base_uri": "https://localhost:8080/"
        },
        "id": "cdpMJMw8d0pt",
        "outputId": "ad6b585c-6493-44fb-870e-50bddf334ce9"
      },
      "execution_count": 10,
      "outputs": [
        {
          "output_type": "stream",
          "name": "stdout",
          "text": [
            "    Index  Age      Salary  Rating       Location  Established Easy Apply\n",
            "0       0   44   $44k-$99k     5.4       India,In         1999       TRUE\n",
            "1       1   66   $55k-$66k     3.5    New York,Ny         2002       TRUE\n",
            "2       2   39   $77k-$89k    -1.0    New York,Ny           -1         -1\n",
            "3       3   64   $44k-$99k     4.4       India In         1988         -1\n",
            "4       4   25   $44k-$99k     6.4  Australia Aus         2002         -1\n",
            "5       5   44   $77k-$89k     1.4       India,In         1999       TRUE\n",
            "6       6   21   $44k-$99k     0.0    New York,Ny           -1         -1\n",
            "7       7   44   $44k-$99k    -1.0  Australia Aus           -1         -1\n",
            "8       8   35   $44k-$99k     5.4    New York,Ny           -1         -1\n",
            "9       9   22   $44k-$99k     7.7       India,In           -1       TRUE\n",
            "10     10   55   $10k-$49k     5.4       India,In         2008       TRUE\n",
            "11     11   44   $10k-$49k     6.7       India,In         2009         -1\n",
            "12     12   39   $44k-$99k     0.0       India,In         1999         -1\n",
            "13     13   25   $44k-$99k    -1.0  Australia Aus         2019       TRUE\n",
            "14     14   66   $44k-$99k     4.0  Australia Aus         2020       TRUE\n",
            "15     15   44  $88k-$101k     3.0  Australia Aus         1999         -1\n",
            "16     16   19   $19k-$40k     4.5       India,In         1984         -1\n",
            "17     17   39   $44k-$99k     5.3    New York,Ny         1943       TRUE\n",
            "18     18   35   $44k-$99k     6.7    New York,Ny         1954       TRUE\n",
            "19     19   32   $44k-$99k     3.3    New York,Ny         1955       TRUE\n",
            "20     20   39   $44k-$99k     5.7    New York,Ny         1944       TRUE\n",
            "21     21   35   $44k-$99k     5.0    New York,Ny         1946         -1\n",
            "22     22   19   $55k-$66k     7.8    New York,Ny         1988       TRUE\n",
            "23     23   39   $44k-$99k     2.4    New York,Ny         1999       TRUE\n",
            "24     24   13   $44k-$99k    -1.0    New York,Ny         1987         -1\n",
            "25     25   55   $44k-$99k     0.0  Australia Aus         1980       TRUE\n",
            "26     26   39   $55k-$66k     NaN       India,In         1934       TRUE\n",
            "27     27   52   $44k-$99k     5.4       India,In         1935         -1\n",
            "28     28   39   $39k-$88k     3.4  Australia Aus         1932         -1\n"
          ]
        }
      ]
    },
    {
      "cell_type": "code",
      "source": [
        "data.Rating.fillna(data.Rating.mean(),inplace=True)\n",
        "print(data)"
      ],
      "metadata": {
        "colab": {
          "base_uri": "https://localhost:8080/"
        },
        "id": "i1cRWKtFd3KI",
        "outputId": "63005843-4d6c-4be8-ac4f-714282b9692d"
      },
      "execution_count": 11,
      "outputs": [
        {
          "output_type": "stream",
          "name": "stdout",
          "text": [
            "    Index  Age      Salary    Rating       Location  Established Easy Apply\n",
            "0       0   44   $44k-$99k  5.400000       India,In         1999       TRUE\n",
            "1       1   66   $55k-$66k  3.500000    New York,Ny         2002       TRUE\n",
            "2       2   39   $77k-$89k -1.000000    New York,Ny           -1         -1\n",
            "3       3   64   $44k-$99k  4.400000       India In         1988         -1\n",
            "4       4   25   $44k-$99k  6.400000  Australia Aus         2002         -1\n",
            "5       5   44   $77k-$89k  1.400000       India,In         1999       TRUE\n",
            "6       6   21   $44k-$99k  0.000000    New York,Ny           -1         -1\n",
            "7       7   44   $44k-$99k -1.000000  Australia Aus           -1         -1\n",
            "8       8   35   $44k-$99k  5.400000    New York,Ny           -1         -1\n",
            "9       9   22   $44k-$99k  7.700000       India,In           -1       TRUE\n",
            "10     10   55   $10k-$49k  5.400000       India,In         2008       TRUE\n",
            "11     11   44   $10k-$49k  6.700000       India,In         2009         -1\n",
            "12     12   39   $44k-$99k  0.000000       India,In         1999         -1\n",
            "13     13   25   $44k-$99k -1.000000  Australia Aus         2019       TRUE\n",
            "14     14   66   $44k-$99k  4.000000  Australia Aus         2020       TRUE\n",
            "15     15   44  $88k-$101k  3.000000  Australia Aus         1999         -1\n",
            "16     16   19   $19k-$40k  4.500000       India,In         1984         -1\n",
            "17     17   39   $44k-$99k  5.300000    New York,Ny         1943       TRUE\n",
            "18     18   35   $44k-$99k  6.700000    New York,Ny         1954       TRUE\n",
            "19     19   32   $44k-$99k  3.300000    New York,Ny         1955       TRUE\n",
            "20     20   39   $44k-$99k  5.700000    New York,Ny         1944       TRUE\n",
            "21     21   35   $44k-$99k  5.000000    New York,Ny         1946         -1\n",
            "22     22   19   $55k-$66k  7.800000    New York,Ny         1988       TRUE\n",
            "23     23   39   $44k-$99k  2.400000    New York,Ny         1999       TRUE\n",
            "24     24   13   $44k-$99k -1.000000    New York,Ny         1987         -1\n",
            "25     25   55   $44k-$99k  0.000000  Australia Aus         1980       TRUE\n",
            "26     26   39   $55k-$66k  3.528571       India,In         1934       TRUE\n",
            "27     27   52   $44k-$99k  5.400000       India,In         1935         -1\n",
            "28     28   39   $39k-$88k  3.400000  Australia Aus         1932         -1\n"
          ]
        }
      ]
    },
    {
      "cell_type": "code",
      "source": [
        "data['Rating'] = data.Rating.round(decimals = 0)\n",
        "print(data)"
      ],
      "metadata": {
        "colab": {
          "base_uri": "https://localhost:8080/"
        },
        "id": "ItqY_mwOd3Gp",
        "outputId": "8a1dc789-1baf-4889-eba1-5f0ddb381358"
      },
      "execution_count": 12,
      "outputs": [
        {
          "output_type": "stream",
          "name": "stdout",
          "text": [
            "    Index  Age      Salary  Rating       Location  Established Easy Apply\n",
            "0       0   44   $44k-$99k     5.0       India,In         1999       TRUE\n",
            "1       1   66   $55k-$66k     4.0    New York,Ny         2002       TRUE\n",
            "2       2   39   $77k-$89k    -1.0    New York,Ny           -1         -1\n",
            "3       3   64   $44k-$99k     4.0       India In         1988         -1\n",
            "4       4   25   $44k-$99k     6.0  Australia Aus         2002         -1\n",
            "5       5   44   $77k-$89k     1.0       India,In         1999       TRUE\n",
            "6       6   21   $44k-$99k     0.0    New York,Ny           -1         -1\n",
            "7       7   44   $44k-$99k    -1.0  Australia Aus           -1         -1\n",
            "8       8   35   $44k-$99k     5.0    New York,Ny           -1         -1\n",
            "9       9   22   $44k-$99k     8.0       India,In           -1       TRUE\n",
            "10     10   55   $10k-$49k     5.0       India,In         2008       TRUE\n",
            "11     11   44   $10k-$49k     7.0       India,In         2009         -1\n",
            "12     12   39   $44k-$99k     0.0       India,In         1999         -1\n",
            "13     13   25   $44k-$99k    -1.0  Australia Aus         2019       TRUE\n",
            "14     14   66   $44k-$99k     4.0  Australia Aus         2020       TRUE\n",
            "15     15   44  $88k-$101k     3.0  Australia Aus         1999         -1\n",
            "16     16   19   $19k-$40k     4.0       India,In         1984         -1\n",
            "17     17   39   $44k-$99k     5.0    New York,Ny         1943       TRUE\n",
            "18     18   35   $44k-$99k     7.0    New York,Ny         1954       TRUE\n",
            "19     19   32   $44k-$99k     3.0    New York,Ny         1955       TRUE\n",
            "20     20   39   $44k-$99k     6.0    New York,Ny         1944       TRUE\n",
            "21     21   35   $44k-$99k     5.0    New York,Ny         1946         -1\n",
            "22     22   19   $55k-$66k     8.0    New York,Ny         1988       TRUE\n",
            "23     23   39   $44k-$99k     2.0    New York,Ny         1999       TRUE\n",
            "24     24   13   $44k-$99k    -1.0    New York,Ny         1987         -1\n",
            "25     25   55   $44k-$99k     0.0  Australia Aus         1980       TRUE\n",
            "26     26   39   $55k-$66k     4.0       India,In         1934       TRUE\n",
            "27     27   52   $44k-$99k     5.0       India,In         1935         -1\n",
            "28     28   39   $39k-$88k     3.0  Australia Aus         1932         -1\n"
          ]
        }
      ]
    },
    {
      "cell_type": "markdown",
      "source": [
        "2)Data Types: What are the data types of each indicator, and do they align with their expected types?"
      ],
      "metadata": {
        "id": "Rggv81_Cd64Y"
      }
    },
    {
      "cell_type": "code",
      "source": [
        "print(data.dtypes)"
      ],
      "metadata": {
        "colab": {
          "base_uri": "https://localhost:8080/"
        },
        "id": "ai0LIYKpd3D7",
        "outputId": "d8c3a95e-af01-4fdd-9bfd-6360c66b1e38"
      },
      "execution_count": 13,
      "outputs": [
        {
          "output_type": "stream",
          "name": "stdout",
          "text": [
            "Index            int64\n",
            "Age              int64\n",
            "Salary          object\n",
            "Rating         float64\n",
            "Location        object\n",
            "Established      int64\n",
            "Easy Apply      object\n",
            "dtype: object\n"
          ]
        }
      ]
    },
    {
      "cell_type": "code",
      "source": [
        "data_types = data.dtypes\n",
        "\n",
        "for column, dtype in  data_types.items():\n",
        "  print(f\"{column}: {dtype}\")\n",
        "\n",
        "  if data[column].dtype =='object':\n",
        "    print(f\"Expected Type: Categorical\")\n",
        "  elif data[column].dtype == 'float64':\n",
        "    print(f\"Expected Type: Numerical\")\n",
        "\n",
        "  print()"
      ],
      "metadata": {
        "colab": {
          "base_uri": "https://localhost:8080/"
        },
        "id": "-ZMKZfUld_uQ",
        "outputId": "0308fc87-b3cd-4754-82f7-9e2b2050cc41"
      },
      "execution_count": 14,
      "outputs": [
        {
          "output_type": "stream",
          "name": "stdout",
          "text": [
            "Index: int64\n",
            "\n",
            "Age: int64\n",
            "\n",
            "Salary: object\n",
            "Expected Type: Categorical\n",
            "\n",
            "Rating: float64\n",
            "Expected Type: Numerical\n",
            "\n",
            "Location: object\n",
            "Expected Type: Categorical\n",
            "\n",
            "Established: int64\n",
            "\n",
            "Easy Apply: object\n",
            "Expected Type: Categorical\n",
            "\n"
          ]
        }
      ]
    },
    {
      "cell_type": "markdown",
      "source": [
        "4). Salary Formatting: Examine the format of the Salary column. Does it require any formatting or standardization for consistent analysis?"
      ],
      "metadata": {
        "id": "7qSJ21soeCXk"
      }
    },
    {
      "cell_type": "code",
      "source": [
        "data['Salary']"
      ],
      "metadata": {
        "colab": {
          "base_uri": "https://localhost:8080/"
        },
        "id": "2BvImEmXeAxr",
        "outputId": "f4ac04b3-8075-434e-f047-7dee828118ba"
      },
      "execution_count": 15,
      "outputs": [
        {
          "output_type": "execute_result",
          "data": {
            "text/plain": [
              "0      $44k-$99k\n",
              "1      $55k-$66k\n",
              "2      $77k-$89k\n",
              "3      $44k-$99k\n",
              "4      $44k-$99k\n",
              "5      $77k-$89k\n",
              "6      $44k-$99k\n",
              "7      $44k-$99k\n",
              "8      $44k-$99k\n",
              "9      $44k-$99k\n",
              "10     $10k-$49k\n",
              "11     $10k-$49k\n",
              "12     $44k-$99k\n",
              "13     $44k-$99k\n",
              "14     $44k-$99k\n",
              "15    $88k-$101k\n",
              "16     $19k-$40k\n",
              "17     $44k-$99k\n",
              "18     $44k-$99k\n",
              "19     $44k-$99k\n",
              "20     $44k-$99k\n",
              "21     $44k-$99k\n",
              "22     $55k-$66k\n",
              "23     $44k-$99k\n",
              "24     $44k-$99k\n",
              "25     $44k-$99k\n",
              "26     $55k-$66k\n",
              "27     $44k-$99k\n",
              "28     $39k-$88k\n",
              "Name: Salary, dtype: object"
            ]
          },
          "metadata": {},
          "execution_count": 15
        }
      ]
    },
    {
      "cell_type": "code",
      "source": [
        "data.Salary = data.Salary.str.replace('$',\" \")"
      ],
      "metadata": {
        "colab": {
          "base_uri": "https://localhost:8080/"
        },
        "id": "sWZCkEaZeAuR",
        "outputId": "a2f36071-3b9d-42fb-84b8-8ac10f3749d8"
      },
      "execution_count": 16,
      "outputs": [
        {
          "output_type": "stream",
          "name": "stderr",
          "text": [
            "<ipython-input-16-00504c136468>:1: FutureWarning: The default value of regex will change from True to False in a future version. In addition, single character regular expressions will *not* be treated as literal strings when regex=True.\n",
            "  data.Salary = data.Salary.str.replace('$',\" \")\n"
          ]
        }
      ]
    },
    {
      "cell_type": "code",
      "source": [
        "data.Salary = data.Salary.str.replace(\"k\",\"000\")"
      ],
      "metadata": {
        "id": "awkO6R2deArm"
      },
      "execution_count": 17,
      "outputs": []
    },
    {
      "cell_type": "code",
      "source": [
        "data.Salary = data.Salary.str.replace(\"-\",\" -\")"
      ],
      "metadata": {
        "id": "UH0f6m4yeApA"
      },
      "execution_count": 18,
      "outputs": []
    },
    {
      "cell_type": "code",
      "source": [
        "data.Salary = data.Salary.replace(\"88000\",\" 88000\")"
      ],
      "metadata": {
        "id": "Qmljq8_ueK2l"
      },
      "execution_count": 19,
      "outputs": []
    },
    {
      "cell_type": "code",
      "source": [
        "data['Salary'] = data['Salary'].str.replace(r'\\s*-\\s*', '-')"
      ],
      "metadata": {
        "colab": {
          "base_uri": "https://localhost:8080/"
        },
        "id": "WMcTyuuteKy_",
        "outputId": "1514a3eb-0a89-4b40-a6dc-e6a95f3b43da"
      },
      "execution_count": 20,
      "outputs": [
        {
          "output_type": "stream",
          "name": "stderr",
          "text": [
            "<ipython-input-20-465fe4944133>:1: FutureWarning: The default value of regex will change from True to False in a future version.\n",
            "  data['Salary'] = data['Salary'].str.replace(r'\\s*-\\s*', '-')\n"
          ]
        }
      ]
    },
    {
      "cell_type": "code",
      "source": [
        "data['Easy Apply'] = data['Easy Apply'].str.strip()"
      ],
      "metadata": {
        "id": "43ntQWSFeKo8"
      },
      "execution_count": 21,
      "outputs": []
    },
    {
      "cell_type": "code",
      "source": [
        "print(data)"
      ],
      "metadata": {
        "colab": {
          "base_uri": "https://localhost:8080/"
        },
        "id": "TeWo1S97eSCV",
        "outputId": "980ddfc0-30cd-4783-87c1-c478a1672773"
      },
      "execution_count": 22,
      "outputs": [
        {
          "output_type": "stream",
          "name": "stdout",
          "text": [
            "    Index  Age         Salary  Rating       Location  Established Easy Apply\n",
            "0       0   44    44000-99000     5.0       India,In         1999       TRUE\n",
            "1       1   66    55000-66000     4.0    New York,Ny         2002       TRUE\n",
            "2       2   39    77000-89000    -1.0    New York,Ny           -1         -1\n",
            "3       3   64    44000-99000     4.0       India In         1988         -1\n",
            "4       4   25    44000-99000     6.0  Australia Aus         2002         -1\n",
            "5       5   44    77000-89000     1.0       India,In         1999       TRUE\n",
            "6       6   21    44000-99000     0.0    New York,Ny           -1         -1\n",
            "7       7   44    44000-99000    -1.0  Australia Aus           -1         -1\n",
            "8       8   35    44000-99000     5.0    New York,Ny           -1         -1\n",
            "9       9   22    44000-99000     8.0       India,In           -1       TRUE\n",
            "10     10   55    10000-49000     5.0       India,In         2008       TRUE\n",
            "11     11   44    10000-49000     7.0       India,In         2009         -1\n",
            "12     12   39    44000-99000     0.0       India,In         1999         -1\n",
            "13     13   25    44000-99000    -1.0  Australia Aus         2019       TRUE\n",
            "14     14   66    44000-99000     4.0  Australia Aus         2020       TRUE\n",
            "15     15   44   88000-101000     3.0  Australia Aus         1999         -1\n",
            "16     16   19    19000-40000     4.0       India,In         1984         -1\n",
            "17     17   39    44000-99000     5.0    New York,Ny         1943       TRUE\n",
            "18     18   35    44000-99000     7.0    New York,Ny         1954       TRUE\n",
            "19     19   32    44000-99000     3.0    New York,Ny         1955       TRUE\n",
            "20     20   39    44000-99000     6.0    New York,Ny         1944       TRUE\n",
            "21     21   35    44000-99000     5.0    New York,Ny         1946         -1\n",
            "22     22   19    55000-66000     8.0    New York,Ny         1988       TRUE\n",
            "23     23   39    44000-99000     2.0    New York,Ny         1999       TRUE\n",
            "24     24   13    44000-99000    -1.0    New York,Ny         1987         -1\n",
            "25     25   55    44000-99000     0.0  Australia Aus         1980       TRUE\n",
            "26     26   39    55000-66000     4.0       India,In         1934       TRUE\n",
            "27     27   52    44000-99000     5.0       India,In         1935         -1\n",
            "28     28   39    39000-88000     3.0  Australia Aus         1932         -1\n"
          ]
        }
      ]
    },
    {
      "cell_type": "markdown",
      "source": [
        "5) Location Standardization: Check the consistency of location entries. Do they need standardization, and how can this be achieved?"
      ],
      "metadata": {
        "id": "z4U4qZCBeSoB"
      }
    },
    {
      "cell_type": "code",
      "source": [
        "data.Location = data.Location.str.replace(',In',' ')\n",
        "data.Location = data.Location.str.replace(' In',' ')\n",
        "data.Location = data.Location.str.replace('Australia Aus','Australia')\n",
        "data.Location = data.Location.str.replace(',Ny',' ')"
      ],
      "metadata": {
        "id": "ckDqZZmAeR--"
      },
      "execution_count": 23,
      "outputs": []
    },
    {
      "cell_type": "code",
      "source": [
        "print(data)"
      ],
      "metadata": {
        "colab": {
          "base_uri": "https://localhost:8080/"
        },
        "id": "nCbLo_QBeR8j",
        "outputId": "978639ff-56b8-430d-ec6a-e5a20570fdc0"
      },
      "execution_count": 24,
      "outputs": [
        {
          "output_type": "stream",
          "name": "stdout",
          "text": [
            "    Index  Age         Salary  Rating   Location  Established Easy Apply\n",
            "0       0   44    44000-99000     5.0     India          1999       TRUE\n",
            "1       1   66    55000-66000     4.0  New York          2002       TRUE\n",
            "2       2   39    77000-89000    -1.0  New York            -1         -1\n",
            "3       3   64    44000-99000     4.0     India          1988         -1\n",
            "4       4   25    44000-99000     6.0  Australia         2002         -1\n",
            "5       5   44    77000-89000     1.0     India          1999       TRUE\n",
            "6       6   21    44000-99000     0.0  New York            -1         -1\n",
            "7       7   44    44000-99000    -1.0  Australia           -1         -1\n",
            "8       8   35    44000-99000     5.0  New York            -1         -1\n",
            "9       9   22    44000-99000     8.0     India            -1       TRUE\n",
            "10     10   55    10000-49000     5.0     India          2008       TRUE\n",
            "11     11   44    10000-49000     7.0     India          2009         -1\n",
            "12     12   39    44000-99000     0.0     India          1999         -1\n",
            "13     13   25    44000-99000    -1.0  Australia         2019       TRUE\n",
            "14     14   66    44000-99000     4.0  Australia         2020       TRUE\n",
            "15     15   44   88000-101000     3.0  Australia         1999         -1\n",
            "16     16   19    19000-40000     4.0     India          1984         -1\n",
            "17     17   39    44000-99000     5.0  New York          1943       TRUE\n",
            "18     18   35    44000-99000     7.0  New York          1954       TRUE\n",
            "19     19   32    44000-99000     3.0  New York          1955       TRUE\n",
            "20     20   39    44000-99000     6.0  New York          1944       TRUE\n",
            "21     21   35    44000-99000     5.0  New York          1946         -1\n",
            "22     22   19    55000-66000     8.0  New York          1988       TRUE\n",
            "23     23   39    44000-99000     2.0  New York          1999       TRUE\n",
            "24     24   13    44000-99000    -1.0  New York          1987         -1\n",
            "25     25   55    44000-99000     0.0  Australia         1980       TRUE\n",
            "26     26   39    55000-66000     4.0     India          1934       TRUE\n",
            "27     27   52    44000-99000     5.0     India          1935         -1\n",
            "28     28   39    39000-88000     3.0  Australia         1932         -1\n"
          ]
        }
      ]
    },
    {
      "cell_type": "markdown",
      "source": [
        "6) Established Column: Explore the Established column. Are there any inconsistencies or anomalies that need to be addressed?"
      ],
      "metadata": {
        "id": "3jaW9pTSeZZY"
      }
    },
    {
      "cell_type": "code",
      "source": [
        "data['Established'].replace(-1, 'Unknown',inplace = True)"
      ],
      "metadata": {
        "id": "_3xbSIp_edTy"
      },
      "execution_count": 25,
      "outputs": []
    },
    {
      "cell_type": "code",
      "source": [
        "print(data)"
      ],
      "metadata": {
        "colab": {
          "base_uri": "https://localhost:8080/"
        },
        "id": "uvKjVBtDehxv",
        "outputId": "ecc4ade8-e66d-415e-a700-afc9d13df96f"
      },
      "execution_count": 26,
      "outputs": [
        {
          "output_type": "stream",
          "name": "stdout",
          "text": [
            "    Index  Age         Salary  Rating   Location Established Easy Apply\n",
            "0       0   44    44000-99000     5.0     India         1999       TRUE\n",
            "1       1   66    55000-66000     4.0  New York         2002       TRUE\n",
            "2       2   39    77000-89000    -1.0  New York      Unknown         -1\n",
            "3       3   64    44000-99000     4.0     India         1988         -1\n",
            "4       4   25    44000-99000     6.0  Australia        2002         -1\n",
            "5       5   44    77000-89000     1.0     India         1999       TRUE\n",
            "6       6   21    44000-99000     0.0  New York      Unknown         -1\n",
            "7       7   44    44000-99000    -1.0  Australia     Unknown         -1\n",
            "8       8   35    44000-99000     5.0  New York      Unknown         -1\n",
            "9       9   22    44000-99000     8.0     India      Unknown       TRUE\n",
            "10     10   55    10000-49000     5.0     India         2008       TRUE\n",
            "11     11   44    10000-49000     7.0     India         2009         -1\n",
            "12     12   39    44000-99000     0.0     India         1999         -1\n",
            "13     13   25    44000-99000    -1.0  Australia        2019       TRUE\n",
            "14     14   66    44000-99000     4.0  Australia        2020       TRUE\n",
            "15     15   44   88000-101000     3.0  Australia        1999         -1\n",
            "16     16   19    19000-40000     4.0     India         1984         -1\n",
            "17     17   39    44000-99000     5.0  New York         1943       TRUE\n",
            "18     18   35    44000-99000     7.0  New York         1954       TRUE\n",
            "19     19   32    44000-99000     3.0  New York         1955       TRUE\n",
            "20     20   39    44000-99000     6.0  New York         1944       TRUE\n",
            "21     21   35    44000-99000     5.0  New York         1946         -1\n",
            "22     22   19    55000-66000     8.0  New York         1988       TRUE\n",
            "23     23   39    44000-99000     2.0  New York         1999       TRUE\n",
            "24     24   13    44000-99000    -1.0  New York         1987         -1\n",
            "25     25   55    44000-99000     0.0  Australia        1980       TRUE\n",
            "26     26   39    55000-66000     4.0     India         1934       TRUE\n",
            "27     27   52    44000-99000     5.0     India         1935         -1\n",
            "28     28   39    39000-88000     3.0  Australia        1932         -1\n"
          ]
        }
      ]
    },
    {
      "cell_type": "markdown",
      "source": [
        "7) Easy Apply Indicator: Analyze the Easy Apply column. Does it contain boolean values or need transformation for better analysis?"
      ],
      "metadata": {
        "id": "rntJuhi5ekKJ"
      }
    },
    {
      "cell_type": "code",
      "source": [
        "data['Easy Apply'] = data['Easy Apply'].str.replace('-1',\"FALSE\")"
      ],
      "metadata": {
        "id": "go2JagWPehuL"
      },
      "execution_count": 27,
      "outputs": []
    },
    {
      "cell_type": "code",
      "source": [
        "print(data)"
      ],
      "metadata": {
        "colab": {
          "base_uri": "https://localhost:8080/"
        },
        "id": "dYF78iXxehsH",
        "outputId": "8a5cada6-8834-4bbe-de0d-a1550cb87329"
      },
      "execution_count": 28,
      "outputs": [
        {
          "output_type": "stream",
          "name": "stdout",
          "text": [
            "    Index  Age         Salary  Rating   Location Established Easy Apply\n",
            "0       0   44    44000-99000     5.0     India         1999       TRUE\n",
            "1       1   66    55000-66000     4.0  New York         2002       TRUE\n",
            "2       2   39    77000-89000    -1.0  New York      Unknown      FALSE\n",
            "3       3   64    44000-99000     4.0     India         1988      FALSE\n",
            "4       4   25    44000-99000     6.0  Australia        2002      FALSE\n",
            "5       5   44    77000-89000     1.0     India         1999       TRUE\n",
            "6       6   21    44000-99000     0.0  New York      Unknown      FALSE\n",
            "7       7   44    44000-99000    -1.0  Australia     Unknown      FALSE\n",
            "8       8   35    44000-99000     5.0  New York      Unknown      FALSE\n",
            "9       9   22    44000-99000     8.0     India      Unknown       TRUE\n",
            "10     10   55    10000-49000     5.0     India         2008       TRUE\n",
            "11     11   44    10000-49000     7.0     India         2009      FALSE\n",
            "12     12   39    44000-99000     0.0     India         1999      FALSE\n",
            "13     13   25    44000-99000    -1.0  Australia        2019       TRUE\n",
            "14     14   66    44000-99000     4.0  Australia        2020       TRUE\n",
            "15     15   44   88000-101000     3.0  Australia        1999      FALSE\n",
            "16     16   19    19000-40000     4.0     India         1984      FALSE\n",
            "17     17   39    44000-99000     5.0  New York         1943       TRUE\n",
            "18     18   35    44000-99000     7.0  New York         1954       TRUE\n",
            "19     19   32    44000-99000     3.0  New York         1955       TRUE\n",
            "20     20   39    44000-99000     6.0  New York         1944       TRUE\n",
            "21     21   35    44000-99000     5.0  New York         1946      FALSE\n",
            "22     22   19    55000-66000     8.0  New York         1988       TRUE\n",
            "23     23   39    44000-99000     2.0  New York         1999       TRUE\n",
            "24     24   13    44000-99000    -1.0  New York         1987      FALSE\n",
            "25     25   55    44000-99000     0.0  Australia        1980       TRUE\n",
            "26     26   39    55000-66000     4.0     India         1934       TRUE\n",
            "27     27   52    44000-99000     5.0     India         1935      FALSE\n",
            "28     28   39    39000-88000     3.0  Australia        1932      FALSE\n"
          ]
        }
      ]
    },
    {
      "cell_type": "markdown",
      "source": [
        "9) Age Distribution:Check the distribution of values in the Age column. Are there any unusual entries, and how might they impact analysis?"
      ],
      "metadata": {
        "id": "qYKhzE2ferYA"
      }
    },
    {
      "cell_type": "code",
      "source": [
        "data.Age.info()"
      ],
      "metadata": {
        "colab": {
          "base_uri": "https://localhost:8080/"
        },
        "id": "t1XouLWxehpm",
        "outputId": "f2161183-2154-4842-943f-9c904b99eee5"
      },
      "execution_count": 29,
      "outputs": [
        {
          "output_type": "stream",
          "name": "stdout",
          "text": [
            "<class 'pandas.core.series.Series'>\n",
            "RangeIndex: 29 entries, 0 to 28\n",
            "Series name: Age\n",
            "Non-Null Count  Dtype\n",
            "--------------  -----\n",
            "29 non-null     int64\n",
            "dtypes: int64(1)\n",
            "memory usage: 360.0 bytes\n"
          ]
        }
      ]
    },
    {
      "cell_type": "code",
      "source": [
        "data.Age.describe()"
      ],
      "metadata": {
        "colab": {
          "base_uri": "https://localhost:8080/"
        },
        "id": "LDFvDASeehm-",
        "outputId": "860bfcf5-47b3-4844-cf29-e42bc12f1e91"
      },
      "execution_count": 30,
      "outputs": [
        {
          "output_type": "execute_result",
          "data": {
            "text/plain": [
              "count    29.000000\n",
              "mean     39.034483\n",
              "std      13.973145\n",
              "min      13.000000\n",
              "25%      32.000000\n",
              "50%      39.000000\n",
              "75%      44.000000\n",
              "max      66.000000\n",
              "Name: Age, dtype: float64"
            ]
          },
          "metadata": {},
          "execution_count": 30
        }
      ]
    },
    {
      "cell_type": "markdown",
      "source": [
        "10) Handling Special Characters: Examine all text-based columns (e.g., Location). Are there special characters or inconsistencies that need cleaning?"
      ],
      "metadata": {
        "id": "lP_ZqUxAeyZk"
      }
    },
    {
      "cell_type": "code",
      "source": [
        "text_columns = ['Location', 'Easy Apply']\n",
        "\n",
        "for columns in text_columns:\n",
        "  unique_values = data[column].unique()\n",
        "  print(f\"Unique values in {column}:\")\n",
        "  print(unique_values)\n",
        "\n",
        "  for value in unique_values:\n",
        "    if pd.notna(value) and any(char.isalnum() or char.isspace() for char in value):\n",
        "      print(f\"Special characters found in '{value}' of column '{column}'\")"
      ],
      "metadata": {
        "colab": {
          "base_uri": "https://localhost:8080/"
        },
        "id": "jFQdXKkhehkY",
        "outputId": "8139354f-b0c2-4fac-df7e-a3eb67a5ba9e"
      },
      "execution_count": 31,
      "outputs": [
        {
          "output_type": "stream",
          "name": "stdout",
          "text": [
            "Unique values in Easy Apply:\n",
            "['TRUE' 'FALSE']\n",
            "Special characters found in 'TRUE' of column 'Easy Apply'\n",
            "Special characters found in 'FALSE' of column 'Easy Apply'\n",
            "Unique values in Easy Apply:\n",
            "['TRUE' 'FALSE']\n",
            "Special characters found in 'TRUE' of column 'Easy Apply'\n",
            "Special characters found in 'FALSE' of column 'Easy Apply'\n"
          ]
        }
      ]
    },
    {
      "cell_type": "code",
      "source": [
        "print(data)"
      ],
      "metadata": {
        "colab": {
          "base_uri": "https://localhost:8080/"
        },
        "id": "n5SdxZDwe4OB",
        "outputId": "9723d745-eb1b-4617-fa67-8d50fc085338"
      },
      "execution_count": 32,
      "outputs": [
        {
          "output_type": "stream",
          "name": "stdout",
          "text": [
            "    Index  Age         Salary  Rating   Location Established Easy Apply\n",
            "0       0   44    44000-99000     5.0     India         1999       TRUE\n",
            "1       1   66    55000-66000     4.0  New York         2002       TRUE\n",
            "2       2   39    77000-89000    -1.0  New York      Unknown      FALSE\n",
            "3       3   64    44000-99000     4.0     India         1988      FALSE\n",
            "4       4   25    44000-99000     6.0  Australia        2002      FALSE\n",
            "5       5   44    77000-89000     1.0     India         1999       TRUE\n",
            "6       6   21    44000-99000     0.0  New York      Unknown      FALSE\n",
            "7       7   44    44000-99000    -1.0  Australia     Unknown      FALSE\n",
            "8       8   35    44000-99000     5.0  New York      Unknown      FALSE\n",
            "9       9   22    44000-99000     8.0     India      Unknown       TRUE\n",
            "10     10   55    10000-49000     5.0     India         2008       TRUE\n",
            "11     11   44    10000-49000     7.0     India         2009      FALSE\n",
            "12     12   39    44000-99000     0.0     India         1999      FALSE\n",
            "13     13   25    44000-99000    -1.0  Australia        2019       TRUE\n",
            "14     14   66    44000-99000     4.0  Australia        2020       TRUE\n",
            "15     15   44   88000-101000     3.0  Australia        1999      FALSE\n",
            "16     16   19    19000-40000     4.0     India         1984      FALSE\n",
            "17     17   39    44000-99000     5.0  New York         1943       TRUE\n",
            "18     18   35    44000-99000     7.0  New York         1954       TRUE\n",
            "19     19   32    44000-99000     3.0  New York         1955       TRUE\n",
            "20     20   39    44000-99000     6.0  New York         1944       TRUE\n",
            "21     21   35    44000-99000     5.0  New York         1946      FALSE\n",
            "22     22   19    55000-66000     8.0  New York         1988       TRUE\n",
            "23     23   39    44000-99000     2.0  New York         1999       TRUE\n",
            "24     24   13    44000-99000    -1.0  New York         1987      FALSE\n",
            "25     25   55    44000-99000     0.0  Australia        1980       TRUE\n",
            "26     26   39    55000-66000     4.0     India         1934       TRUE\n",
            "27     27   52    44000-99000     5.0     India         1935      FALSE\n",
            "28     28   39    39000-88000     3.0  Australia        1932      FALSE\n"
          ]
        }
      ]
    }
  ]
}