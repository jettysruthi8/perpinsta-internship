{
  "cells": [
    {
      "cell_type": "markdown",
      "metadata": {
        "id": "view-in-github",
        "colab_type": "text"
      },
      "source": [
        "<a href=\"https://colab.research.google.com/github/jettysruthi8/perpinsta-internship/blob/main/W2P.ipynb\" target=\"_parent\"><img src=\"https://colab.research.google.com/assets/colab-badge.svg\" alt=\"Open In Colab\"/></a>"
      ]
    },
    {
      "cell_type": "markdown",
      "metadata": {
        "id": "fxZte1ZuP3yr"
      },
      "source": [
        "# Problem statement\n",
        "\n",
        "Create famous 'Frog leap' puzzle game. Try completing the game before starting to get an idea about its working.\n",
        "[Demonstration](https://www.neok12.com/games/leap-froggies/leap-froggies.htm).\n",
        "\n",
        "\n",
        "### Rules ###\n",
        "1. The left set of frogs can only move right, the right set of frogs can only move left.\n",
        "2. Frogs can move forward one space, or move two spaces by jumping over another frog from opposite side.\n",
        "3. The puzzle is solved when the two sets of frogs have switched positions.\n",
        "\n",
        "\n",
        "## Steps to solve the problem:\n",
        "### Step1:-\n",
        "- Display green and brown frogs on the left and right sides initially.\n",
        "\n",
        "Initial Display :-  \n",
        "```\n",
        "[ 0 ,  1 ,  2 ,  3 ,  4 ,  5 ,  6 ]\n",
        "['G', 'G', 'G', '-', 'B', 'B', 'B']\n",
        "```\n",
        "<br>\n",
        "Here 'G' represents Green frogs on the left side and 'B' represents brown frogs on the right side. The '-' defines the position of empty leaf.\n",
        "(You can change display according to your imagination or convinience)\n",
        "\n",
        "### Step2:-\n",
        "Accept positions of the frog that you want to move.<br>\n",
        "Example: If we enter position 2 then the game will look like this:-\n",
        "```\n",
        "[ 0 ,  1 ,  2 ,  3 ,  4 ,  5 ,  6 ]\n",
        "['G', 'G', '-', 'G', 'B', 'B', 'B']\n",
        "```\n",
        "\n",
        "### Step3:- ###\n",
        "Define Invalid moves and add conditional 'if' statements accordingly\n",
        "#### Rules\n",
        "1. Entered position should be between 0 to 6. Or a character 'q' to quit the game.\n",
        "2. Entered position cannot be the position of empty leaf.\n",
        "3. If the selected frog position cannot perform the contraints given in rule 2 then the move is invalid.\n",
        "\n",
        "### Step4:-\n",
        "Make the appropriate move by changing the game display."
      ]
    },
    {
      "cell_type": "markdown",
      "metadata": {
        "id": "-viYJbAFQXcJ"
      },
      "source": [
        "## Step 1\n",
        "First create a list `positions` which contains the characters 'G','B' and '-' in the same sequence as given in the initial display state."
      ]
    },
    {
      "cell_type": "code",
      "execution_count": null,
      "metadata": {
        "colab": {
          "base_uri": "https://localhost:8080/"
        },
        "id": "fSvLBrjwP0sr",
        "outputId": "0dddcdfe-ca59-4b16-f6b3-0ba158f9e7e6"
      },
      "outputs": [
        {
          "name": "stdout",
          "output_type": "stream",
          "text": [
            "['G', 'G', 'G', '-', 'B', 'B', 'B']\n"
          ]
        }
      ],
      "source": [
        "positions = ['G', 'G', 'G', '-', 'B', 'B', 'B']\n",
        "print(positions)"
      ]
    },
    {
      "cell_type": "markdown",
      "metadata": {
        "id": "unr1AJLSQj_4"
      },
      "source": [
        "Now print this string ```[ 0 ,  1 ,  2 ,  3 ,  4 ,  5 ,  6 ]``` and after that print the list `positions`"
      ]
    },
    {
      "cell_type": "code",
      "execution_count": null,
      "metadata": {
        "colab": {
          "base_uri": "https://localhost:8080/"
        },
        "id": "qqKLcfEmQgiZ",
        "outputId": "aeb8ad20-83ab-413d-bb40-88a40f44b643"
      },
      "outputs": [
        {
          "name": "stdout",
          "output_type": "stream",
          "text": [
            "Current status of the game : \n",
            "[ 0    1    2    3    4    5    6]\n",
            "['G', 'G', 'G', '-', 'B', 'B', 'B']\n"
          ]
        }
      ],
      "source": [
        "print(\"Current status of the game : \")\n",
        "print(\"[ 0    1    2    3    4    5    6]\")\n",
        "print(positions)\n"
      ]
    },
    {
      "cell_type": "markdown",
      "metadata": {
        "id": "DuEVsgtjQqXV"
      },
      "source": [
        "Take position input from user and write a message as `\"Press q to quit else \\nEnter position of piece:\"`."
      ]
    },
    {
      "cell_type": "code",
      "execution_count": null,
      "metadata": {
        "id": "nPz65EKXQnDR"
      },
      "outputs": [],
      "source": [
        "position= input(\"Press q to quit else \\nEnter position of piece:\")\n"
      ]
    },
    {
      "cell_type": "code",
      "execution_count": null,
      "metadata": {
        "colab": {
          "base_uri": "https://localhost:8080/"
        },
        "id": "AeLStFHJERAa",
        "outputId": "7b94707b-fd14-4c70-b411-ffdae25a3ace"
      },
      "outputs": [
        {
          "data": {
            "text/plain": [
              "str"
            ]
          },
          "execution_count": 3,
          "metadata": {},
          "output_type": "execute_result"
        }
      ],
      "source": [
        "type(position)"
      ]
    },
    {
      "cell_type": "markdown",
      "metadata": {
        "id": "ejy_x_eTRJmT"
      },
      "source": [
        "Now the taken input is in string format. So first check if the input is `'q'` character. If input is `'q'` then the person is quiting the game so print `'You Lose'`."
      ]
    },
    {
      "cell_type": "code",
      "execution_count": null,
      "metadata": {
        "id": "1OrsC7P9QxO6"
      },
      "outputs": [],
      "source": [
        "if position== 'q':\n",
        "  print(\"You Lose\")"
      ]
    },
    {
      "cell_type": "markdown",
      "metadata": {
        "id": "yZJeDTGlRSMe"
      },
      "source": [
        "Next if input character is not `'q'` then it has to be some integer. so convert input to integer format."
      ]
    },
    {
      "cell_type": "code",
      "execution_count": null,
      "metadata": {
        "colab": {
          "base_uri": "https://localhost:8080/"
        },
        "id": "PWZj_Js6RP2G",
        "outputId": "0d94f02c-318a-42f6-ec30-623ef6fbbfa6"
      },
      "outputs": [
        {
          "data": {
            "text/plain": [
              "int"
            ]
          },
          "execution_count": 6,
          "metadata": {},
          "output_type": "execute_result"
        }
      ],
      "source": [
        "if position!='q':\n",
        "    pos = int(position)\n",
        "type(pos)"
      ]
    },
    {
      "cell_type": "markdown",
      "metadata": {
        "id": "SyCzN-cYRXZa"
      },
      "source": [
        "## Step 2\n",
        "Now we have to check validity of the selected positions or move.<br>\n",
        "If the entered number isn't between 0 and 6, then print 'Invalid move'."
      ]
    },
    {
      "cell_type": "code",
      "execution_count": null,
      "metadata": {
        "id": "8_edLqe2RU8S"
      },
      "outputs": [],
      "source": [
        "if pos < 0 or 6 < pos:\n",
        "  print(\"Invalid Move\")"
      ]
    },
    {
      "cell_type": "markdown",
      "metadata": {
        "id": "Va03g0l5Rlkx"
      },
      "source": [
        "A frog should be present on the selected position to make a move. If leaf is selected then it doesn't make sense. Therefore, if entered postition is same as the postition of empty leaf then the move is invalid and print `Invalid Move`"
      ]
    },
    {
      "cell_type": "code",
      "execution_count": null,
      "metadata": {
        "id": "uM2-D1xGRiH4",
        "outputId": "13ebc11e-04fe-4464-e645-b4dd9b324378"
      },
      "outputs": [
        {
          "name": "stdout",
          "output_type": "stream",
          "text": [
            "Invalid Move\n"
          ]
        }
      ],
      "source": [
        "if positions[pos] == '-':\n",
        "  print(\"Invalid Move\")\n"
      ]
    },
    {
      "cell_type": "markdown",
      "metadata": {
        "id": "cp5q2ahQTnwI"
      },
      "source": [
        "Initialize a variable named `pos2` at value 0, to store the index of empty leaf, so that we can use it later."
      ]
    },
    {
      "cell_type": "code",
      "execution_count": null,
      "metadata": {
        "id": "1SkBYDnaTpiV"
      },
      "outputs": [],
      "source": [
        "pos2=0"
      ]
    },
    {
      "cell_type": "markdown",
      "metadata": {
        "id": "V9UFD623R3Oa"
      },
      "source": [
        "```   \n",
        "    Check if the selected frog is 'G':\n",
        "  \n",
        "        (Inside if when it's 'G'. As 'G' is selected frog can move to right only.)\n",
        "        \n",
        "        ❗condition 1\n",
        "\n",
        "        If **selected_position + 1** is less than or equal to 6 and **curent_position + 1** contains '-'\n",
        "        then it's a valid move and store that postion in `pos2`.\n",
        "        \n",
        "        ❗condition2\n",
        "\n",
        "        Else if **selected_position + 2** is less than or equal to 6 and if **current_position + 2**\n",
        "        contains '-' and if **selected_position + 1** contains 'B' then it's a valid move  and store that postion in `pos2`.\n",
        "        \n",
        "        ❗condition3:\n",
        "\n",
        "        Else remainig all are invalid, so print `Invalid Move`\n",
        "      \n",
        "```"
      ]
    },
    {
      "cell_type": "code",
      "execution_count": null,
      "metadata": {
        "id": "IDHxpibURriq"
      },
      "outputs": [],
      "source": [
        "if positions[pos] == 'G':\n",
        "    if position +1 <=6 and positions[position+1] =='-':\n",
        "        pos2=position+1\n",
        "    elif position +2 <=6 and positions[position +2]=='-' and positions[position+1]=='B':\n",
        "        pos2=position+2\n",
        "    else:\n",
        "        print(\"Invalid move\")"
      ]
    },
    {
      "cell_type": "markdown",
      "metadata": {
        "id": "DyQX5nUsTZPF"
      },
      "source": [
        "```\n",
        "    Check if the selected frog is 'B':\n",
        "    \n",
        "        (Inside if when it's 'B'. As 'B' is selected frog can move to left only.)\n",
        "        \n",
        "        ❗condition1:\n",
        "\n",
        "        If **selected_position - 1** is more than or equal to 0 and **curent_position - 1** contains '-' then\n",
        "        it's a valid move and and store that postion in `pos2`.\n",
        "        \n",
        "        ❗condition2:\n",
        "\n",
        "        Else if **selected_position - 2** is more than or equal to 0 and if **current_position - 2** contains '-'\n",
        "        and if **selected_position - 1** contains 'G' then it's a valid move and and store that postion in `pos2`.\n",
        "\n",
        "        ❗condition3:\n",
        "        \n",
        "        Else remainig all are invalid,, so print `Invalid Move`.\n",
        "        \n",
        "```"
      ]
    },
    {
      "cell_type": "code",
      "execution_count": null,
      "metadata": {
        "id": "cQ2G3ZO_TWU5"
      },
      "outputs": [],
      "source": [
        "\n",
        "if positions[pos] == 'B':\n",
        "    if (position -1 )>=0 and positions[position -1]=='-':\n",
        "        pos2=position-1\n",
        "    elif (position -2 )>=0 and positions[position-2]=='-'and positions[position-1]=='G':\n",
        "        pos2=position-2\n",
        "    else:\n",
        "        print(\"Invalid move\")"
      ]
    },
    {
      "cell_type": "markdown",
      "metadata": {
        "id": "Vads2oztUd4g"
      },
      "source": [
        "Swap the element at selected positions and calculated position2 in the list.<br> So basically we are moving the frog to next valid position by swapping elelments of array."
      ]
    },
    {
      "cell_type": "code",
      "execution_count": null,
      "metadata": {
        "id": "jXOGtww7UeYQ"
      },
      "outputs": [],
      "source": [
        "positions[pos], positions[pos2] = positions[pos2], positions[pos]"
      ]
    },
    {
      "cell_type": "markdown",
      "metadata": {
        "id": "8qF4Q2HsUlZ4"
      },
      "source": [
        "Now print the display of the game again to see the change.<br>\n",
        "If we enter position 2 then the output will look like this:-\n",
        "```\n",
        "[ 0 ,  1 ,  2 ,  3 ,  4 ,  5 ,  6 ]\n",
        "['G', 'G', '-', 'G', 'B', 'B', 'B']\n",
        "```"
      ]
    },
    {
      "cell_type": "code",
      "execution_count": null,
      "metadata": {
        "id": "0S3oNzG3UifK",
        "outputId": "c0ced6e0-791a-4347-bc5c-0513b95ddfb3"
      },
      "outputs": [
        {
          "name": "stdout",
          "output_type": "stream",
          "text": [
            "[ 0 , 1 , 2 , 3 , 4 , 5 , 6 ]\n",
            "['-', 'G', 'G', 'G', 'B', 'B', 'B']\n"
          ]
        }
      ],
      "source": [
        "print(\"[ 0 , 1 , 2 , 3 , 4 , 5 , 6 ]\")\n",
        "print(positions)"
      ]
    },
    {
      "cell_type": "markdown",
      "metadata": {
        "id": "EILVGu48UsH-"
      },
      "source": [
        "Check for winning condition by comparing the elements of list. If player has won the game print `'You Win'`"
      ]
    },
    {
      "cell_type": "code",
      "execution_count": null,
      "metadata": {
        "id": "GYkZdiA6Uote"
      },
      "outputs": [],
      "source": [
        "if positions == ['B','B','B','-','G','G','G']:\n",
        "    print(\"You win\")"
      ]
    },
    {
      "cell_type": "markdown",
      "metadata": {
        "id": "a2a0HHjiUyQ8"
      },
      "source": [
        "Now the game should keep running until the player quits, so place all conditional statements inside an infinite loop.<br>\n",
        "\n",
        "1. We have to `'break'` the loop if the player presses `'q'` and quits.\n",
        "\n",
        "2. If the move made by player is `'Invalid Move'` then we have to `'continue'` without executing remaining part of the selected iteration.\n",
        "\n",
        "3. If player wins the game we have to `break` the loop.\n",
        "\n",
        "\n",
        "```\n",
        "Infinite loop:\n",
        "    (inside loop)\n",
        "    1.Take input\n",
        "    2.Check all valid and invalid conditions of `pos`.\n",
        "    3.Make the appropriate move by calculating `pos2`.\n",
        "    4.Display game\n",
        "    4.Check winning condition\n",
        "```"
      ]
    },
    {
      "cell_type": "code",
      "execution_count": null,
      "metadata": {
        "id": "J1stXTjGFBRE",
        "outputId": "0fc0d5b5-0493-4e92-cf8b-6dc726a63412"
      },
      "outputs": [
        {
          "name": "stdout",
          "output_type": "stream",
          "text": [
            "[ 0 ,  1 ,  2 ,  3 ,  4 ,  5 ,  6 ]\n",
            "['🐰', '🐰', '🐰', '🪨', '🐇', '🐇', '🐇']\n",
            "[ 0 ,  1 ,  2 ,  3 ,  4 ,  5 ,  6 ]\n",
            "['🐰', '🐰', '🪨', '🐰', '🐇', '🐇', '🐇']\n",
            "[ 0 ,  1 ,  2 ,  3 ,  4 ,  5 ,  6 ]\n",
            "['🐰', '🐰', '🐇', '🐰', '🪨', '🐇', '🐇']\n",
            "[ 0 ,  1 ,  2 ,  3 ,  4 ,  5 ,  6 ]\n",
            "['🐰', '🐰', '🐇', '🐰', '🐇', '🪨', '🐇']\n",
            "[ 0 ,  1 ,  2 ,  3 ,  4 ,  5 ,  6 ]\n",
            "['🐰', '🐰', '🐇', '🪨', '🐇', '🐰', '🐇']\n",
            "[ 0 ,  1 ,  2 ,  3 ,  4 ,  5 ,  6 ]\n",
            "['🐰', '🪨', '🐇', '🐰', '🐇', '🐰', '🐇']\n",
            "[ 0 ,  1 ,  2 ,  3 ,  4 ,  5 ,  6 ]\n",
            "['🪨', '🐰', '🐇', '🐰', '🐇', '🐰', '🐇']\n",
            "[ 0 ,  1 ,  2 ,  3 ,  4 ,  5 ,  6 ]\n",
            "['🐇', '🐰', '🪨', '🐰', '🐇', '🐰', '🐇']\n",
            "[ 0 ,  1 ,  2 ,  3 ,  4 ,  5 ,  6 ]\n",
            "['🐇', '🐰', '🐇', '🐰', '🪨', '🐰', '🐇']\n",
            "[ 0 ,  1 ,  2 ,  3 ,  4 ,  5 ,  6 ]\n",
            "['🐇', '🐰', '🐇', '🐰', '🐇', '🐰', '🪨']\n",
            "[ 0 ,  1 ,  2 ,  3 ,  4 ,  5 ,  6 ]\n",
            "['🐇', '🐰', '🐇', '🐰', '🐇', '🪨', '🐰']\n",
            "[ 0 ,  1 ,  2 ,  3 ,  4 ,  5 ,  6 ]\n",
            "['🐇', '🐰', '🐇', '🪨', '🐇', '🐰', '🐰']\n",
            "[ 0 ,  1 ,  2 ,  3 ,  4 ,  5 ,  6 ]\n",
            "['🐇', '🪨', '🐇', '🐰', '🐇', '🐰', '🐰']\n",
            "[ 0 ,  1 ,  2 ,  3 ,  4 ,  5 ,  6 ]\n",
            "['🐇', '🐇', '🪨', '🐰', '🐇', '🐰', '🐰']\n",
            "[ 0 ,  1 ,  2 ,  3 ,  4 ,  5 ,  6 ]\n",
            "['🐇', '🐇', '🐇', '🐰', '🪨', '🐰', '🐰']\n",
            "[ 0 ,  1 ,  2 ,  3 ,  4 ,  5 ,  6 ]\n",
            "['🐇', '🐇', '🐇', '🪨', '🐰', '🐰', '🐰']\n",
            "YOU WIN\n"
          ]
        }
      ],
      "source": [
        "# Initial positions of pieces (using emoji Unicode)\n",
        "# \\U0001F430 - grey rabbit , \\U0001FAA8 - rock, \\U0001F407 - white rabbit\n",
        "\n",
        "positions = ['\\U0001F430', '\\U0001F430', '\\U0001F430', '\\U0001FAA8', '\\U0001F407', '\\U0001F407', '\\U0001F407']\n",
        "print(\"[ 0 ,  1 ,  2 ,  3 ,  4 ,  5 ,  6 ]\")\n",
        "print(positions)\n",
        "\n",
        "while True:\n",
        "    # User input for piece position or 'q' to quit\n",
        "    position = input(\"Press q to quit else \\nEnter position of piece:\")\n",
        "\n",
        "    # Checking if the user wants to quit\n",
        "    if position == 'q':\n",
        "        print(\"YOU LOSE!!\")\n",
        "        break\n",
        "    else:\n",
        "        # Converting input to integer\n",
        "        position = int(position)\n",
        "\n",
        "    # Checking for valid position input\n",
        "    if position < 0 or position > 6:\n",
        "        print(\"Invalid move\")\n",
        "        continue\n",
        "\n",
        "    # Checking if the selected position is an empty space(Rock)\n",
        "    if positions[position] == '\\U0001FAA8':\n",
        "        print(\"Invalid move\")\n",
        "        continue\n",
        "\n",
        "    #Initializing  pos2\n",
        "    pos2=0\n",
        "\n",
        "    # Logic for '\\U0001F407' grey rabbit movements\n",
        "    if positions[position] == '\\U0001F430':\n",
        "        if (position + 1) <= 6 and positions[position + 1] == '\\U0001FAA8':\n",
        "            pos2 = position + 1\n",
        "        elif (position + 2) <= 6 and positions[position + 2] == '\\U0001FAA8' and positions[position + 1] == '\\U0001F407':\n",
        "            pos2 = position + 2\n",
        "        else:\n",
        "            print(\"Invalid move\")\n",
        "            continue\n",
        "\n",
        "    # Logic for '\\U0001F430' white rabbit movements\n",
        "    elif positions[position] == '\\U0001F407':\n",
        "        if (position - 1) >= 0 and positions[position - 1] == '\\U0001FAA8':\n",
        "            pos2 = position - 1\n",
        "        elif (position - 2) >= 0 and positions[position - 2] == '\\U0001FAA8' and positions[position - 1] == '\\U0001F430':\n",
        "            pos2 = position - 2\n",
        "        else:\n",
        "            print(\"Invalid move\")\n",
        "            continue\n",
        "\n",
        "    # Swapping positions if move is valid\n",
        "    positions[position], positions[pos2] = positions[pos2], positions[position]\n",
        "\n",
        "    # Displaying updated positions\n",
        "    print(\"[ 0 ,  1 ,  2 ,  3 ,  4 ,  5 ,  6 ]\")\n",
        "    print(positions)\n",
        "\n",
        "    # Checking for winning condition\n",
        "    if positions == ['\\U0001F407', '\\U0001F407', '\\U0001F407', '\\U0001FAA8', '\\U0001F430', '\\U0001F430', '\\U0001F430']:\n",
        "        print(\"YOU WIN\")\n",
        "        break"
      ]
    }
  ],
  "metadata": {
    "colab": {
      "provenance": [],
      "include_colab_link": true
    },
    "kernelspec": {
      "display_name": "Python 3",
      "name": "python3"
    },
    "language_info": {
      "codemirror_mode": {
        "name": "ipython",
        "version": 3
      },
      "file_extension": ".py",
      "mimetype": "text/x-python",
      "name": "python",
      "nbconvert_exporter": "python",
      "pygments_lexer": "ipython3",
      "version": "3.12.0"
    }
  },
  "nbformat": 4,
  "nbformat_minor": 0
}